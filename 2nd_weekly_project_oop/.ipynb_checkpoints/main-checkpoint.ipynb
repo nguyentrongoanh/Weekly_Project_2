{
 "cells": [
  {
   "cell_type": "code",
   "execution_count": null,
   "metadata": {},
   "outputs": [],
   "source": [
    "from GetDetail import *\n",
    "from Query import get_urls\n",
    "\n",
    "\n",
    "TIKI_URL = 'https://tiki.vn'\n",
    "\n",
    "# cur.execute('DROP TABLE products;')\n",
    "# cur.execute('DROP TABLE categories;')\n",
    "# conn.commit()\n",
    "# main_categories = get_main_categories(TIKI_URL, save_db=True)\n",
    "# get_all_categories(main_categories)\n",
    "urls = get_urls()\n",
    "print(urls)\n",
    "get_product_details(urls)\n"
   ]
  },
  {
   "cell_type": "code",
   "execution_count": null,
   "metadata": {},
   "outputs": [],
   "source": []
  }
 ],
 "metadata": {
  "kernelspec": {
   "display_name": "Python 3",
   "language": "python",
   "name": "python3"
  },
  "language_info": {
   "codemirror_mode": {
    "name": "ipython",
    "version": 3
   },
   "file_extension": ".py",
   "mimetype": "text/x-python",
   "name": "python",
   "nbconvert_exporter": "python",
   "pygments_lexer": "ipython3",
   "version": "3.7.8"
  }
 },
 "nbformat": 4,
 "nbformat_minor": 4
}
